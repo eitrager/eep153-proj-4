{
 "cells": [
  {
   "cell_type": "markdown",
   "id": "8a2c6b15-47ec-4c11-a5e0-028fc7e8024f",
   "metadata": {},
   "source": [
    "# Policy Scenario Notebook"
   ]
  },
  {
   "cell_type": "markdown",
   "id": "3e618265-0245-428f-ab4c-324499a59715",
   "metadata": {},
   "source": [
    "#### Setup"
   ]
  },
  {
   "cell_type": "code",
   "execution_count": 1,
   "id": "7d2aa73d-3550-4ae1-b15f-ac5a04e32c3e",
   "metadata": {
    "scrolled": true
   },
   "outputs": [
    {
     "name": "stdout",
     "output_type": "stream",
     "text": [
      "Collecting CFEDemands>=0.6.3.dev0 (from -r requirements.txt (line 5))\n",
      "  Using cached cfedemands-0.6.4.dev0-py2.py3-none-any.whl.metadata (1.6 kB)\n",
      "Collecting ConsumerDemands>=0.4.3.dev0 (from -r requirements.txt (line 7))\n",
      "  Using cached ConsumerDemands-0.4.3.dev0-py2.py3-none-any.whl.metadata (1.2 kB)\n",
      "Requirement already satisfied: matplotlib>=3.3.4 in /srv/conda/lib/python3.11/site-packages (from -r requirements.txt (line 10)) (3.10.1)\n",
      "Requirement already satisfied: numpy>=1.21.5 in /srv/conda/lib/python3.11/site-packages (from -r requirements.txt (line 14)) (2.2.5)\n",
      "Requirement already satisfied: pandas>=1.3.5 in /srv/conda/lib/python3.11/site-packages (from -r requirements.txt (line 20)) (2.2.3)\n",
      "Requirement already satisfied: plotly>=5.1.0 in /srv/conda/lib/python3.11/site-packages (from -r requirements.txt (line 23)) (6.0.1)\n",
      "Collecting eep153_tools>=0.11 (from -r requirements.txt (line 25))\n",
      "  Using cached eep153_tools-0.12.4-py2.py3-none-any.whl.metadata (363 bytes)\n",
      "Collecting python-gnupg (from -r requirements.txt (line 26))\n",
      "  Using cached python_gnupg-0.5.4-py2.py3-none-any.whl.metadata (2.0 kB)\n",
      "Collecting gspread_pandas>=3.3 (from -r requirements.txt (line 28))\n",
      "  Using cached gspread_pandas-3.3.0-py2.py3-none-any.whl.metadata (10 kB)\n",
      "Requirement already satisfied: scikit-learn in /srv/conda/lib/python3.11/site-packages (from -r requirements.txt (line 30)) (1.6.0)\n",
      "Requirement already satisfied: xarray in /srv/conda/lib/python3.11/site-packages (from -r requirements.txt (line 31)) (2025.1.1)\n",
      "Requirement already satisfied: scipy>=1.7.3 in /srv/conda/lib/python3.11/site-packages (from CFEDemands>=0.6.3.dev0->-r requirements.txt (line 5)) (1.14.1)\n",
      "Requirement already satisfied: importlib_metadata>=6.7.0 in /srv/conda/lib/python3.11/site-packages (from CFEDemands>=0.6.3.dev0->-r requirements.txt (line 5)) (8.6.1)\n",
      "Collecting fsspec (from CFEDemands>=0.6.3.dev0->-r requirements.txt (line 5))\n",
      "  Using cached fsspec-2025.3.2-py3-none-any.whl.metadata (11 kB)\n",
      "Requirement already satisfied: contourpy>=1.0.1 in /srv/conda/lib/python3.11/site-packages (from matplotlib>=3.3.4->-r requirements.txt (line 10)) (1.3.2)\n",
      "Requirement already satisfied: cycler>=0.10 in /srv/conda/lib/python3.11/site-packages (from matplotlib>=3.3.4->-r requirements.txt (line 10)) (0.12.1)\n",
      "Requirement already satisfied: fonttools>=4.22.0 in /srv/conda/lib/python3.11/site-packages (from matplotlib>=3.3.4->-r requirements.txt (line 10)) (4.57.0)\n",
      "Requirement already satisfied: kiwisolver>=1.3.1 in /srv/conda/lib/python3.11/site-packages (from matplotlib>=3.3.4->-r requirements.txt (line 10)) (1.4.7)\n",
      "Requirement already satisfied: packaging>=20.0 in /srv/conda/lib/python3.11/site-packages (from matplotlib>=3.3.4->-r requirements.txt (line 10)) (24.2)\n",
      "Requirement already satisfied: pillow>=8 in /srv/conda/lib/python3.11/site-packages (from matplotlib>=3.3.4->-r requirements.txt (line 10)) (11.1.0)\n",
      "Requirement already satisfied: pyparsing>=2.3.1 in /srv/conda/lib/python3.11/site-packages (from matplotlib>=3.3.4->-r requirements.txt (line 10)) (3.2.3)\n",
      "Requirement already satisfied: python-dateutil>=2.7 in /srv/conda/lib/python3.11/site-packages (from matplotlib>=3.3.4->-r requirements.txt (line 10)) (2.9.0.post0)\n",
      "Requirement already satisfied: pytz>=2020.1 in /srv/conda/lib/python3.11/site-packages (from pandas>=1.3.5->-r requirements.txt (line 20)) (2025.2)\n",
      "Requirement already satisfied: tzdata>=2022.7 in /srv/conda/lib/python3.11/site-packages (from pandas>=1.3.5->-r requirements.txt (line 20)) (2025.2)\n",
      "Requirement already satisfied: narwhals>=1.15.1 in /srv/conda/lib/python3.11/site-packages (from plotly>=5.1.0->-r requirements.txt (line 23)) (1.35.0)\n",
      "Requirement already satisfied: gspread<6,>=5.0.0 in /srv/conda/lib/python3.11/site-packages (from gspread_pandas>=3.3->-r requirements.txt (line 28)) (5.12.4)\n",
      "Requirement already satisfied: decorator in /srv/conda/lib/python3.11/site-packages (from gspread_pandas>=3.3->-r requirements.txt (line 28)) (5.1.1)\n",
      "Requirement already satisfied: google-auth in /srv/conda/lib/python3.11/site-packages (from gspread_pandas>=3.3->-r requirements.txt (line 28)) (2.39.0)\n",
      "Requirement already satisfied: google-auth-oauthlib in /srv/conda/lib/python3.11/site-packages (from gspread_pandas>=3.3->-r requirements.txt (line 28)) (1.2.1)\n",
      "Requirement already satisfied: joblib>=1.2.0 in /srv/conda/lib/python3.11/site-packages (from scikit-learn->-r requirements.txt (line 30)) (1.4.2)\n",
      "Requirement already satisfied: threadpoolctl>=3.1.0 in /srv/conda/lib/python3.11/site-packages (from scikit-learn->-r requirements.txt (line 30)) (3.6.0)\n",
      "Requirement already satisfied: cachetools<6.0,>=2.0.0 in /srv/conda/lib/python3.11/site-packages (from google-auth->gspread_pandas>=3.3->-r requirements.txt (line 28)) (5.5.2)\n",
      "Requirement already satisfied: pyasn1-modules>=0.2.1 in /srv/conda/lib/python3.11/site-packages (from google-auth->gspread_pandas>=3.3->-r requirements.txt (line 28)) (0.4.2)\n",
      "Requirement already satisfied: rsa<5,>=3.1.4 in /srv/conda/lib/python3.11/site-packages (from google-auth->gspread_pandas>=3.3->-r requirements.txt (line 28)) (4.9.1)\n",
      "Requirement already satisfied: requests-oauthlib>=0.7.0 in /srv/conda/lib/python3.11/site-packages (from google-auth-oauthlib->gspread_pandas>=3.3->-r requirements.txt (line 28)) (2.0.0)\n",
      "Requirement already satisfied: zipp>=3.20 in /srv/conda/lib/python3.11/site-packages (from importlib_metadata>=6.7.0->CFEDemands>=0.6.3.dev0->-r requirements.txt (line 5)) (3.21.0)\n",
      "Requirement already satisfied: six>=1.5 in /srv/conda/lib/python3.11/site-packages (from python-dateutil>=2.7->matplotlib>=3.3.4->-r requirements.txt (line 10)) (1.17.0)\n",
      "Requirement already satisfied: pyasn1<0.7.0,>=0.6.1 in /srv/conda/lib/python3.11/site-packages (from pyasn1-modules>=0.2.1->google-auth->gspread_pandas>=3.3->-r requirements.txt (line 28)) (0.6.1)\n",
      "Requirement already satisfied: oauthlib>=3.0.0 in /srv/conda/lib/python3.11/site-packages (from requests-oauthlib>=0.7.0->google-auth-oauthlib->gspread_pandas>=3.3->-r requirements.txt (line 28)) (3.2.2)\n",
      "Requirement already satisfied: requests>=2.0.0 in /srv/conda/lib/python3.11/site-packages (from requests-oauthlib>=0.7.0->google-auth-oauthlib->gspread_pandas>=3.3->-r requirements.txt (line 28)) (2.32.3)\n",
      "Requirement already satisfied: charset_normalizer<4,>=2 in /srv/conda/lib/python3.11/site-packages (from requests>=2.0.0->requests-oauthlib>=0.7.0->google-auth-oauthlib->gspread_pandas>=3.3->-r requirements.txt (line 28)) (3.4.0)\n",
      "Requirement already satisfied: idna<4,>=2.5 in /srv/conda/lib/python3.11/site-packages (from requests>=2.0.0->requests-oauthlib>=0.7.0->google-auth-oauthlib->gspread_pandas>=3.3->-r requirements.txt (line 28)) (3.10)\n",
      "Requirement already satisfied: urllib3<3,>=1.21.1 in /srv/conda/lib/python3.11/site-packages (from requests>=2.0.0->requests-oauthlib>=0.7.0->google-auth-oauthlib->gspread_pandas>=3.3->-r requirements.txt (line 28)) (2.3.0)\n",
      "Requirement already satisfied: certifi>=2017.4.17 in /srv/conda/lib/python3.11/site-packages (from requests>=2.0.0->requests-oauthlib>=0.7.0->google-auth-oauthlib->gspread_pandas>=3.3->-r requirements.txt (line 28)) (2025.1.31)\n",
      "Using cached cfedemands-0.6.4.dev0-py2.py3-none-any.whl (45 kB)\n",
      "Using cached ConsumerDemands-0.4.3.dev0-py2.py3-none-any.whl (12 kB)\n",
      "Using cached eep153_tools-0.12.4-py2.py3-none-any.whl (4.9 kB)\n",
      "Using cached python_gnupg-0.5.4-py2.py3-none-any.whl (21 kB)\n",
      "Using cached gspread_pandas-3.3.0-py2.py3-none-any.whl (27 kB)\n",
      "Using cached fsspec-2025.3.2-py3-none-any.whl (194 kB)\n",
      "Installing collected packages: python-gnupg, eep153_tools, ConsumerDemands, fsspec, CFEDemands, gspread_pandas\n",
      "  Attempting uninstall: gspread_pandas\n",
      "    Found existing installation: gspread-pandas 2.2.3\n",
      "    Uninstalling gspread-pandas-2.2.3:\n",
      "      Successfully uninstalled gspread-pandas-2.2.3\n",
      "Successfully installed CFEDemands-0.6.4.dev0 ConsumerDemands-0.4.3.dev0 eep153_tools-0.12.4 fsspec-2025.3.2 gspread_pandas-3.3.0 python-gnupg-0.5.4\n",
      "Note: you may need to restart the kernel to use updated packages.\n"
     ]
    }
   ],
   "source": [
    "%pip install -r requirements.txt"
   ]
  },
  {
   "cell_type": "code",
   "execution_count": 3,
   "id": "14ef8d90-2138-4f9a-aca8-da9066496dde",
   "metadata": {},
   "outputs": [],
   "source": [
    "import pandas as pd\n",
    "import cfe.regression as rgsn\n",
    "import numpy as np\n",
    "import matplotlib.pyplot as plt\n",
    "from eep153_tools.sheets import read_sheets"
   ]
  },
  {
   "cell_type": "code",
   "execution_count": 4,
   "id": "1d6bb09f-91a3-4479-a8ae-9351be95cc66",
   "metadata": {},
   "outputs": [],
   "source": [
    "r = rgsn.read_pickle('Data/tanz_rgsn')"
   ]
  },
  {
   "cell_type": "code",
   "execution_count": 10,
   "id": "6886248f-56d9-424b-b4b5-0df6e7f3f573",
   "metadata": {},
   "outputs": [
    {
     "data": {
      "image/png": "[encoded data removed]",
      "text/plain": [
       "<Figure size 800x414.286 with 1 Axes>"
      ]
     },
     "execution_count": 10,
     "metadata": {},
     "output_type": "execute_result"
    },
    {
     "data": {
      "image/png": "[encoded data removed]",
      "text/plain": [
       "<Figure size 800x414.286 with 1 Axes>"
      ]
     },
     "metadata": {},
     "output_type": "display_data"
    }
   ],
   "source": [
    "r.graph_beta()"
   ]
  },
  {
   "cell_type": "code",
   "execution_count": 12,
   "id": "045af820-509b-4f87-aba9-783fa7a5dfea",
   "metadata": {},
   "outputs": [],
   "source": [
    "pbar = pd.read_pickle('Data/pbar.pkl')   # still a Series with the same index & dtypes\n",
    "fct  = pd.read_pickle('Data/fct.pkl')    # DataFrame intact\n",
    "rdi  = pd.read_pickle('Data/rdi.pkl')\n",
    "x = pd.read_pickle('Data/x.pkl')"
   ]
  },
  {
   "cell_type": "code",
   "execution_count": 13,
   "id": "d0d7177d-f0fe-4dc4-aed6-7cea2872b20f",
   "metadata": {},
   "outputs": [],
   "source": [
    "Tanz_data = 'https://docs.google.com/spreadsheets/d/1t7oTB6FAdzu34SdNKCMK8rUoin8TeeKq1wt2fu4VBho/edit?usp=sharing'"
   ]
  },
  {
   "cell_type": "code",
   "execution_count": 14,
   "id": "c28cb031-ec47-40f3-93c1-317dd9a4079a",
   "metadata": {},
   "outputs": [],
   "source": [
    "d = read_sheets(Tanz_data, sheet = 'Household Characteristics')\n",
    "d = d[d['t'] == '2020-21']\n",
    "d.set_index(['i','t','m'],inplace=True)\n",
    "d = d.drop(columns = ['log HSize'])"
   ]
  },
  {
   "cell_type": "code",
   "execution_count": 15,
   "id": "b48c83cd-c9f3-4189-9dcc-a31d17b388a6",
   "metadata": {},
   "outputs": [],
   "source": [
    "demo_cols   = d.columns.intersection(rdi.columns)\n",
    "d_demo      = d[demo_cols]               # households × demographics\n",
    "rdi_demo    = rdi[demo_cols].T           # demographics × nutrients\n",
    "\n",
    "# each household’s daily nutrient needs:\n",
    "hh_daily_req = d_demo.dot(rdi_demo)      # index=(i,t,m), columns=nutrients\n"
   ]
  },
  {
   "cell_type": "markdown",
   "id": "5682db0f-c496-42d9-abd9-b496b5de1964",
   "metadata": {},
   "source": [
    "## Helper Functions and Setup"
   ]
  },
  {
   "cell_type": "code",
   "execution_count": 20,
   "id": "d0d6f186-62d9-4097-85d9-f09a2d3daaa9",
   "metadata": {},
   "outputs": [],
   "source": [
    "# 1) Load raw Tanzania data\n",
    "TANZ_ID = \"1t7oTB6FAdzu34SdNKCMK8rUoin8TeeKq1wt2fu4VBho\"\n",
    "\n",
    "# Expenditures: Series idx=(i,t,m,j)\n",
    "x = (read_sheets(TANZ_ID, sheet=\"Food Expenditures (2020-21)\")\n",
    "     .set_index([\"i\",\"t\",\"m\",\"j\"])['Expenditure'])\n",
    "x = x.replace(0, np.nan)\n",
    "\n",
    "# Prices: Series idx=(t,m,j)\n",
    "p = (read_sheets(TANZ_ID, sheet=\"Food Prices (2020-21)\")\n",
    "     .query(\"u.str.lower()=='kg'\", engine='python')\n",
    "     .set_index([\"t\",\"m\",\"j\"])['Price'])\n",
    "p = p.replace(0, np.nan)\n",
    "p_df = p.unstack('j')  # DataFrame idx=(t,m), cols=goods\n",
    "\n",
    "# FCT: DataFrame idx=good, cols=nutrients\n",
    "fct = (read_sheets(TANZ_ID, sheet=\"FCT\")\n",
    "       .set_index('j')\n",
    "       .apply(pd.to_numeric, errors='coerce'))\n",
    "\n",
    "# Name mapping placeholder\n",
    "NAME_MAP = {'fish (fresh)': 'fresh fish', 'leafy greens': 'spinach', 'milk (fresh)': 'fresh milk', 'other fruits': 'canned fruits', \n",
    "                    'pulses': 'peas, beans, lentils and other pulses', 'vegetables (fresh)': 'spinach, cabbage, other green vegetables', 'wheat flour': 'wheat (flour)'}\n",
    "\n",
    "def clean(idx: pd.Index) -> pd.Index:\n",
    "    idx2 = idx.str.strip().str.lower()\n",
    "    return idx2.map(lambda x: NAME_MAP.get(x, x))\n",
    "\n",
    "# Clean goods names\n",
    "fct.index = clean(fct.index)\n",
    "p_df.columns = clean(p_df.columns)\n",
    "x.index = x.index.set_levels(\n",
    "    clean(x.index.levels[3]), level=3)\n",
    "\n",
    "# 2) Baseline nutrient intakes from observed expenditures\n",
    "\n",
    "def compute_baseline_nutrients(x: pd.Series, p_df: pd.DataFrame, fct: pd.DataFrame) -> pd.DataFrame:\n",
    "    \"\"\"\n",
    "    Returns baseline nutrient intakes per household (i,t,m).\n",
    "    Uses observed expenditures, observed prices, and FCT.\n",
    "\n",
    "    x: Series idx=(i,t,m,j) of expenditures\n",
    "    p_df: DataFrame idx=(t,m), cols=j of prices per kg\n",
    "    fct: DataFrame idx=j, cols=nutrients per kg\n",
    "    \"\"\"\n",
    "    # pivot expenditures to DataFrame idx=(i,t,m), cols=j\n",
    "    x_df = x.unstack('j')\n",
    "    # quantities = expenditure / price\n",
    "    q = x_df.div(p_df, axis=0)\n",
    "    # keep only goods that have an FCT\n",
    "    goods = fct.index.intersection(q.columns)\n",
    "    q = q[goods].fillna(0)\n",
    "    # nutrient intakes = quantities · FCT\n",
    "    return q.dot(fct.loc[goods])\n",
    "\n",
    "# 3) Scenario nutrient intakes via demand system\n",
    "\n",
    "def compute_scenario_nutrients(\n",
    "    result,\n",
    "    budgets: pd.Series,\n",
    "    scenariopbar: pd.Series,\n",
    "    fct: pd.DataFrame\n",
    ") -> pd.DataFrame:\n",
    "    \"\"\"\n",
    "    Returns scenario nutrient intakes per household (i,t,m).\n",
    "    Uses model demands at household budgets and scenario prices.\n",
    "\n",
    "    result: fitted cfe.Regression\n",
    "    budgets: Series idx=(i,t,m) of total food budgets\n",
    "    scenariopbar: Series idx=j of new prices per good\n",
    "    fct: DataFrame idx=j, cols=nutrients per kg\n",
    "    \"\"\"\n",
    "    # 1) compute household‐specific Marshallian quantities\n",
    "    demands_list = []\n",
    "    idx_list = []\n",
    "    for hh, bud in budgets.items():\n",
    "        q_hh = result.demands(bud, scenariopbar)\n",
    "        demands_list.append(q_hh)\n",
    "        idx_list.append(hh)\n",
    "    q_df = pd.DataFrame(demands_list, index=pd.MultiIndex.from_tuples(idx_list, names=budgets.index.names))\n",
    "    # 2) clean and keep only FCT goods\n",
    "    q_df.columns = clean(q_df.columns)\n",
    "    goods = fct.index.intersection(q_df.columns)\n",
    "    q_df = q_df[goods].fillna(0)\n",
    "    # 3) nutrient intakes per hh = q_df · FCT\n",
    "    return q_df.dot(fct.loc[goods])\n",
    "\n",
    "# Example usage:\n",
    "# baseline_intakes = compute_baseline_nutrients(x, p_df, fct)\n",
    "# # build and clean pbar/scenario pbar...\n",
    "# budgets = baseline_intakes.sum(axis=1)  # or x_df.sum(axis=1)\n",
    "# scenario_intakes = compute_scenario_nutrients(result, budgets, scenariopbar, fct)\n"
   ]
  },
  {
   "cell_type": "code",
   "execution_count": 21,
   "id": "a817f474-795a-446d-af15-13891efd8c0e",
   "metadata": {
    "jupyter": {
     "source_hidden": true
    }
   },
   "outputs": [],
   "source": [
    "from typing import Optional\n",
    "\n",
    "def plot_adequacy_histograms(\n",
    "    baseline_intakes: pd.DataFrame,\n",
    "    scenario_intakes: Optional[pd.DataFrame],\n",
    "    hh_period_req: pd.DataFrame,   # ← requirement over recall period\n",
    "    nutrient: str,\n",
    "    bins: int = 60,\n",
    "    cap_percentile: float = 99,\n",
    "    figsize: tuple = (10, 6),\n",
    "    alpha: float = 0.6\n",
    "):\n",
    "    \"\"\"\n",
    "    Plot nutritional adequacy ratios for one nutrient.\n",
    "    Optionally overlay a scenario.  Then print the share of households\n",
    "    at or above adequacy (ratio ≥1).\n",
    "    \"\"\"\n",
    "    # 1) compute baseline ratios\n",
    "    b = (baseline_intakes[nutrient] / hh_daily_req[nutrient]).dropna()\n",
    "    b = b[b > 0]\n",
    "\n",
    "    # 2) compute scenario ratios if given\n",
    "    if scenario_intakes is not None:\n",
    "        s = (scenario_intakes[nutrient] / hh_daily_req[nutrient]).dropna()\n",
    "        s = s[s > 0]\n",
    "\n",
    "    # 3) determine cap at given percentile\n",
    "    if scenario_intakes is None:\n",
    "        all_vals = b.values\n",
    "    else:\n",
    "        all_vals = np.concatenate([b.values, s.values])\n",
    "    cap = np.percentile(all_vals, cap_percentile)\n",
    "\n",
    "    # 4) build bin edges\n",
    "    edges = np.linspace(0, cap, bins + 1)\n",
    "\n",
    "    # 5) plot\n",
    "    plt.figure(figsize=figsize)\n",
    "    plt.hist(b, bins=edges, alpha=alpha, label='Baseline')\n",
    "    if scenario_intakes is not None:\n",
    "        plt.hist(s, bins=edges, alpha=alpha, label='Scenario')\n",
    "    plt.xlim(0, cap)\n",
    "    plt.title(f\"Nutritional Adequacy Ratios for {nutrient.title()}\")\n",
    "    plt.xlabel(\"Intake ÷ Requirement\")\n",
    "    plt.ylabel(\"Frequency\")\n",
    "    plt.legend()\n",
    "    plt.grid(alpha=0.3)\n",
    "    plt.show()\n",
    "\n",
    "    # 6) compute and print shares ≥1\n",
    "    def share_at_or_above(series: pd.Series) -> float:\n",
    "        return (series >= 1).sum() / len(series)\n",
    "\n",
    "    baseline_share = share_at_or_above(b)\n",
    "    print(f\"Baseline:  {baseline_share:.1%} of households ≥ 1.0\")\n",
    "\n",
    "    if scenario_intakes is not None:\n",
    "        scenario_share = share_at_or_above(s)\n",
    "        print(f\"Scenario:  {scenario_share:.1%} of households ≥ 1.0\")"
   ]
  },
  {
   "cell_type": "code",
   "execution_count": 22,
   "id": "b8345155-b9a3-4bb2-bc58-03d8b42a01f6",
   "metadata": {},
   "outputs": [],
   "source": [
    "xhat    = r.predicted_expenditures()                 # Series indexed by (i,t,m,j)\n",
    "\n",
    "# 3) if you want it as a wide DataFrame: \n",
    "xhat_df = xhat.unstack('j')                                # idx=(i,t,m), cols=goods"
   ]
  },
  {
   "cell_type": "code",
   "execution_count": 23,
   "id": "484e431a-ef78-441a-b618-4a8979c34e26",
   "metadata": {},
   "outputs": [],
   "source": [
    "budgets = xhat_df.sum(axis=1)"
   ]
  },
  {
   "cell_type": "code",
   "execution_count": 24,
   "id": "f25b3bc3-95ab-40bc-8e1d-2425ff7f78e0",
   "metadata": {},
   "outputs": [],
   "source": [
    "scenariopbar = []"
   ]
  },
  {
   "cell_type": "markdown",
   "id": "40fbea4f-44b8-4d32-996a-e0bc0b480f83",
   "metadata": {},
   "source": [
    "## Define Scenario!\n",
    "Policy Input Below, apply as new PBar and run the rest of notebook for graph updates"
   ]
  },
  {
   "cell_type": "code",
   "execution_count": 25,
   "id": "0e88fb6b-d67a-4d57-8b12-4ba997b6031d",
   "metadata": {
    "jupyter": {
     "source_hidden": true
    }
   },
   "outputs": [
    {
     "data": {
      "application/vnd.jupyter.widget-view+json": {
       "model_id": "0cc2133902d94dc3945624d6b49fa2b5",
       "version_major": 2,
       "version_minor": 0
      },
      "text/plain": [
       "Button(button_style='success', description='Apply as new pbar', style=ButtonStyle())"
      ]
     },
     "metadata": {},
     "output_type": "display_data"
    },
    {
     "data": {
      "application/vnd.jupyter.widget-view+json": {
       "model_id": "6d5815a1346041acbd1803781d4b4af1",
       "version_major": 2,
       "version_minor": 0
      },
      "text/plain": [
       "Button(button_style='warning', description='Reset All', style=ButtonStyle())"
      ]
     },
     "metadata": {},
     "output_type": "display_data"
    },
    {
     "data": {
      "application/vnd.jupyter.widget-view+json": {
       "model_id": "490137cef87a4985b0123ef132fa1054",
       "version_major": 2,
       "version_minor": 0
      },
      "text/plain": [
       "Tab(children=(VBox(children=(FloatText(value=1.0, description='Global ×', layout=Layout(width='200px')), GridB…"
      ]
     },
     "metadata": {},
     "output_type": "display_data"
    },
    {
     "data": {
      "application/vnd.jupyter.widget-view+json": {
       "model_id": "6f415a7b647040abb1bd1112ab32d3a0",
       "version_major": 2,
       "version_minor": 0
      },
      "text/plain": [
       "Output()"
      ]
     },
     "metadata": {},
     "output_type": "display_data"
    }
   ],
   "source": [
    "import numpy as np\n",
    "import pandas as pd\n",
    "from eep153_tools.sheets import read_sheets\n",
    "# assume pbar and fct are already loaded in this namespace\n",
    "\n",
    "# 0) Name mapping placeholder (fill in as needed)\n",
    "NAME_MAP = {'fish (fresh)': 'fresh fish', 'leafy greens': 'spinach', 'milk (fresh)': 'fresh milk', 'other fruits': 'canned fruits', \n",
    "                    'pulses': 'peas, beans, lentils and other pulses', 'vegetables (fresh)': 'spinach, cabbage, other green vegetables', 'wheat flour': 'wheat (flour)'}\n",
    "\n",
    "def clean(idx: pd.Index) -> pd.Index:\n",
    "    \"\"\"Strip, lowercase, and apply NAME_MAP to an Index.\"\"\"\n",
    "    idx2 = idx.str.strip().str.lower()\n",
    "    return idx2.map(lambda x: NAME_MAP.get(x, x))\n",
    "\n",
    "# 1) Clean & map baseline price vector pbar\n",
    "pbar.index = clean(pbar.index)\n",
    "pbar = pbar.rename(index=NAME_MAP)\n",
    "\n",
    "# 2) Build per-food multiplier widgets from cleaned pbar.index\n",
    "import ipywidgets as widgets\n",
    "from IPython.display import display, clear_output\n",
    "from ipywidgets import GridBox, Label, Layout\n",
    "\n",
    "food_mult_widgets = {\n",
    "    j: widgets.FloatText(value=1.0, description='', layout=Layout(width='100px'))\n",
    "    for j in pbar.index\n",
    "}\n",
    "\n",
    "# 3) Global multiplier widget\n",
    "global_mult = widgets.FloatText(value=1.0, description='Global ×', layout=Layout(width='200px'))\n",
    "\n",
    "# 4) Per-nutrient tax widgets from fct.columns\n",
    "nut_tax_widgets = {\n",
    "    n: widgets.FloatText(value=0.0, description=n, layout=Layout(width='300px'))\n",
    "    for n in fct.columns\n",
    "}\n",
    "\n",
    "# 5) Reset button & output area\n",
    "reset_button = widgets.Button(description='Reset All', button_style='warning')\n",
    "output = widgets.Output()\n",
    "\n",
    "# 6) Layout grid of food multipliers\n",
    "labels = [Label(value=str(j), layout=Layout(width='200px')) for j in pbar.index]\n",
    "inputs = [food_mult_widgets[j] for j in pbar.index]\n",
    "grid = GridBox(\n",
    "    children=[val for pair in zip(labels, inputs) for val in pair],\n",
    "    layout=Layout(\n",
    "        grid_template_columns='200px 100px',\n",
    "        grid_row_gap='4px',\n",
    "        grid_column_gap='8px',\n",
    "        overflow='auto',\n",
    "        height='600px',\n",
    "        width='320px'\n",
    "    )\n",
    ")\n",
    "\n",
    "# 7) Compute updated pbar with mapping\n",
    "def compute_updated_pbar():\n",
    "    # read widget values\n",
    "    fm = pd.Series({j: w.value for j, w in food_mult_widgets.items()}, index=pbar.index)\n",
    "    sys = global_mult.value\n",
    "    nt  = pd.Series({n: w.value for n, w in nut_tax_widgets.items()}, index=fct.columns)\n",
    "    # base adjustment\n",
    "    base_price = pbar * fm * sys\n",
    "    # nutrient tax vector\n",
    "    tax_vec = (\n",
    "        fct.mul(nt, axis=1)\n",
    "           .sum(axis=1)\n",
    "           .reindex(pbar.index)\n",
    "           .fillna(0.0)\n",
    "    )\n",
    "    newp = base_price + tax_vec\n",
    "    # clean & map new index\n",
    "    newp.index = clean(newp.index)\n",
    "    newp = newp.rename(index=NAME_MAP)\n",
    "    return newp\n",
    "\n",
    "# 8) Update callback to display newp\n",
    "def update_prices(change=None):\n",
    "    with output:\n",
    "        clear_output(wait=True)\n",
    "        newp = compute_updated_pbar()\n",
    "        display(newp)\n",
    "\n",
    "# 9) Reset widgets callback\n",
    "def on_reset(_):\n",
    "    global_mult.value = 1.0\n",
    "    for w in food_mult_widgets.values(): w.value = 1.0\n",
    "    for w in nut_tax_widgets.values(): w.value = 0.0\n",
    "    update_prices()\n",
    "\n",
    "reset_button.on_click(on_reset)\n",
    "\n",
    "# 10) Apply pbar button\n",
    "enable_btn = widgets.Button(description='Apply as new pbar', button_style='success')\n",
    "def on_apply(_):\n",
    "    global scenariopbar\n",
    "    scenariopbar = compute_updated_pbar()\n",
    "    print(\"scenariopbar updated with mapping applied.\")\n",
    "enable_btn.on_click(on_apply)\n",
    "\n",
    "# 11) Wire observers\n",
    "for w in list(food_mult_widgets.values()) + [global_mult] + list(nut_tax_widgets.values()):\n",
    "    w.observe(update_prices, names='value')\n",
    "\n",
    "# 12) Build tabs\n",
    "tab_food = widgets.VBox([global_mult, grid], layout=Layout(align_items='flex-start'))\n",
    "tab_nut  = widgets.VBox(list(nut_tax_widgets.values()) + [reset_button], layout=Layout(overflow='auto', height='600px'))\n",
    "tabs     = widgets.Tab([tab_food, tab_nut])\n",
    "tabs.set_title(0, \"Food Multipliers\")\n",
    "tabs.set_title(1, \"Nutrient Tax/Subsidy\")\n",
    "\n",
    "# 13) Display UI\n",
    "display(enable_btn, reset_button)\n",
    "display(tabs, output)\n",
    "update_prices()\n"
   ]
  },
  {
   "cell_type": "code",
   "execution_count": 46,
   "id": "841a38ae-eb11-4ce5-97b1-cc7f6138b41e",
   "metadata": {},
   "outputs": [],
   "source": [
    "scenario_fct = fct.copy()\n",
    "\n",
    "item           = 'eggs'         # use your cleaned‐up name here\n",
    "nut            = 'Vitamin A'    # make sure this is lowercase to match fct.columns\n",
    "new_va_per_kg  = 12393          # µg per kg\n",
    "\n",
    "scenario_fct.loc[item, nut] = new_va_per_kg"
   ]
  },
  {
   "cell_type": "code",
   "execution_count": 50,
   "id": "735f5e6b-e5fa-42a7-97cf-4c3871823704",
   "metadata": {},
   "outputs": [],
   "source": [
    "# 1) Build weekly req once:\n",
    "hh_weekly_req    = hh_daily_req * 7\n",
    "\n",
    "# 2) Get weekly intakes (no /7 here!)\n",
    "baseline_intakes = compute_scenario_nutrients(r, budgets, pbar,        fct)/7\n",
    "scenario_intakes = compute_scenario_nutrients(r, budgets, scenariopbar, scenario_fct)/7"
   ]
  },
  {
   "cell_type": "code",
   "execution_count": 51,
   "id": "8cdbf3b4-df59-41db-83df-6dd43886e4ba",
   "metadata": {
    "jupyter": {
     "source_hidden": true
    }
   },
   "outputs": [
    {
     "data": {
      "application/vnd.jupyter.widget-view+json": {
       "model_id": "3605aa3882ac4db89cc58b3ecdd8d25c",
       "version_major": 2,
       "version_minor": 0
      },
      "text/plain": [
       "VBox(children=(Dropdown(description='Nutrient:', options=('Calcium', 'Energy', 'Iron', 'Magnesium', 'Protein',…"
      ]
     },
     "metadata": {},
     "output_type": "display_data"
    },
    {
     "data": {
      "application/vnd.jupyter.widget-view+json": {
       "model_id": "a6cae5906fec49ff9aa5bb35ca27228a",
       "version_major": 2,
       "version_minor": 0
      },
      "text/plain": [
       "Output()"
      ]
     },
     "metadata": {},
     "output_type": "display_data"
    }
   ],
   "source": [
    "import ipywidgets as widgets\n",
    "from IPython.display import display\n",
    "\n",
    "# 1) make a sorted list of available nutrients\n",
    "nutrients = sorted(baseline_intakes.columns.tolist())\n",
    "\n",
    "# 2) build two controls: a dropdown for nutrient, a slider for # of bins\n",
    "nut_widget = widgets.Dropdown(\n",
    "    options=nutrients,\n",
    "    value=nutrients[0],\n",
    "    description=\"Nutrient:\",\n",
    "    style={'description_width':'initial'}\n",
    ")\n",
    "bin_widget = widgets.IntSlider(\n",
    "    value=60, min=10, max=200, step=10,\n",
    "    description=\"Bins:\",\n",
    "    style={'description_width':'initial'}\n",
    ")\n",
    "\n",
    "# 3) define a small wrapper that calls your plotter\n",
    "def _update(nutrient, bins):\n",
    "    plot_adequacy_histograms(\n",
    "        baseline_intakes,\n",
    "        scenario_intakes,\n",
    "        hh_weekly_req,\n",
    "        nutrient=nutrient,\n",
    "        bins=bins\n",
    "    )\n",
    "\n",
    "# 4) wire it up\n",
    "ui  = widgets.VBox([nut_widget, bin_widget])\n",
    "out = widgets.interactive_output(_update, {\n",
    "    'nutrient': nut_widget,\n",
    "    'bins':      bin_widget\n",
    "})\n",
    "\n",
    "display(ui, out)\n"
   ]
  },
  {
   "cell_type": "code",
   "execution_count": 1,
   "id": "6d2767e2-e295-4df9-b5c1-0e614f263c39",
   "metadata": {},
   "outputs": [
    {
     "ename": "NameError",
     "evalue": "name 'r' is not defined",
     "output_type": "error",
     "traceback": [
      "\u001b[31m---------------------------------------------------------------------------\u001b[39m",
      "\u001b[31mNameError\u001b[39m                                 Traceback (most recent call last)",
      "\u001b[36mCell\u001b[39m\u001b[36m \u001b[39m\u001b[32mIn[1]\u001b[39m\u001b[32m, line 1\u001b[39m\n\u001b[32m----> \u001b[39m\u001b[32m1\u001b[39m \u001b[43mr\u001b[49m.graph_betas\n",
      "\u001b[31mNameError\u001b[39m: name 'r' is not defined"
     ]
    }
   ],
   "source": [
    "r.graph_betas"
   ]
  },
  {
   "cell_type": "code",
   "execution_count": null,
   "id": "14a209fe-eebe-44b3-a530-3f2545424514",
   "metadata": {},
   "outputs": [],
   "source": []
  }
 ],
 "metadata": {
  "kernelspec": {
   "display_name": "Python 3 (ipykernel)",
   "language": "python",
   "name": "python3"
  },
  "language_info": {
   "codemirror_mode": {
    "name": "ipython",
    "version": 3
   },
   "file_extension": ".py",
   "mimetype": "text/x-python",
   "name": "python",
   "nbconvert_exporter": "python",
   "pygments_lexer": "ipython3",
   "version": "3.11.12"
  }
 },
 "nbformat": 4,
 "nbformat_minor": 5
}
